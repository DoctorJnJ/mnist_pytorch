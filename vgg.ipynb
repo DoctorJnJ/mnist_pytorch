{
 "cells": [
  {
   "cell_type": "code",
   "execution_count": null,
   "id": "85bfa6d2-42ba-48d4-8030-11d061ac6932",
   "metadata": {
    "tags": []
   },
   "outputs": [],
   "source": [
    "import torch\n",
    "from torch.utils.data import Dataset, DataLoader\n",
    "from torchvision import transforms\n",
    "import torch.nn.functional as F\n",
    "import numpy as np\n",
    "import pandas as pd\n",
    "import os\n",
    "from matplotlib import pyplot as plt\n",
    "import torch.nn as nn\n",
    "from torchsummary import summary"
   ]
  },
  {
   "cell_type": "code",
   "execution_count": null,
   "id": "8ef0e637-acde-4847-a152-e90eb1ee0ede",
   "metadata": {
    "tags": []
   },
   "outputs": [],
   "source": [
    "device = torch.device('cuda') if torch.cuda.is_available() else torch.device('cpu')"
   ]
  },
  {
   "cell_type": "code",
   "execution_count": null,
   "id": "e31a7a28-5174-48e1-b6ae-b6c3df38bfe8",
   "metadata": {
    "tags": []
   },
   "outputs": [],
   "source": [
    "trans = transforms.Compose([transforms.ToTensor(), \n",
    "                            transforms.Resize((224,224)),\n",
    "                            transforms.Normalize((0.1307,), (0.3081,))])"
   ]
  },
  {
   "cell_type": "code",
   "execution_count": null,
   "id": "467161eb-af44-4d7a-ac54-446ddc90ebb9",
   "metadata": {
    "tags": []
   },
   "outputs": [],
   "source": [
    "class Fasion_Mnist(Dataset):\n",
    "    def __init__(self, csv_path, transform=None):\n",
    "        data = pd.read_csv(csv_path)       \n",
    "        label = data.iloc[:, 0].values\n",
    "        train_set = data.iloc[:, 1:].values.astype(np.uint8).reshape(len(label), 28, 28)\n",
    "       \n",
    "        self.train_set = train_set\n",
    "        self.train_label = label\n",
    "        self.transform = transform\n",
    "    \n",
    "    def __getitem__(self, index):\n",
    "        img = self.train_set[index]\n",
    "        target = int(self.train_label[index])\n",
    "        if self.transform is not None:\n",
    "            img = self.transform(img)\n",
    "        else:\n",
    "            image = torch.tensor(image/255., dtype=torch.float)\n",
    "#         label = torch.tensor(label, dtype=torch.long)    \n",
    "        return img, target\n",
    "    \n",
    "    def __len__(self):\n",
    "        return len(self.train_set)"
   ]
  },
  {
   "cell_type": "code",
   "execution_count": null,
   "id": "27861066-bcd7-4da9-b7e3-fc4caa8620fe",
   "metadata": {
    "tags": []
   },
   "outputs": [],
   "source": [
    "train_dataset = Fasion_Mnist(r\"C:\\Users\\14282\\OneDrive\\桌面\\fasion_mnist\\fashion-mnist_test.csv\", transform=trans)\n",
    "test_dataset = Fasion_Mnist(r\"C:\\Users\\14282\\OneDrive\\桌面\\fasion_mnist\\fashion-mnist_train.csv\", transform=trans)"
   ]
  },
  {
   "cell_type": "code",
   "execution_count": null,
   "id": "5dcf369b-b5f8-45f7-8072-1cd63bc66ca4",
   "metadata": {},
   "outputs": [],
   "source": [
    "train_loader = DataLoader(train_dataset, batch_size=64, shuffle=True)\n",
    "test_loader = DataLoader(test_dataset, batch_size=64, shuffle=False)"
   ]
  },
  {
   "cell_type": "code",
   "execution_count": null,
   "id": "156e7fc9-58f6-4346-9a86-69e1f9f6df4e",
   "metadata": {},
   "outputs": [],
   "source": [
    "learning_rate = 0.01\n",
    "momentum = 0.5\n",
    "EPOCH = 20"
   ]
  },
  {
   "cell_type": "code",
   "execution_count": null,
   "id": "4061bbd2-9221-4e73-8788-aae31eecc63e",
   "metadata": {},
   "outputs": [],
   "source": [
    "def vgg_block(in_channels, out_channels, num_convs, kernel_size=3, stride=1, padding=1):\n",
    "    block = nn.Sequential()\n",
    "    for i in range(num_convs):\n",
    "        conv2d = nn.Sequential(\n",
    "                nn.Conv2d(in_channels, out_channels, kernel_size, stride, padding),\n",
    "                nn.BatchNorm2d(out_channels),\n",
    "                nn.ReLU(True)\n",
    "            )\n",
    "        block.add_module(f'conv2d_{i}',conv2d)\n",
    "        in_channels = out_channels\n",
    "    block.add_module(f'maxpool_{i}',nn.MaxPool2d(2,2))\n",
    "    return block\n",
    "\n",
    "#VGG-16模型搭建：包含5个vgg_block块，3个全连接层\n",
    "class VGG16(nn.Module):\n",
    "    def __init__(self, in_dim, n_class) -> None:\n",
    "        super(VGG16, self).__init__()\n",
    "        self.features = nn.Sequential(\n",
    "            \n",
    "            vgg_block(in_channels=in_dim, out_channels=64, num_convs=2),\n",
    "\n",
    "            vgg_block(in_channels=64, out_channels=128, num_convs=2),\n",
    "            \n",
    "            vgg_block(in_channels=128, out_channels=256, num_convs=3),\n",
    "            \n",
    "            vgg_block(in_channels=256, out_channels=512, num_convs=3),\n",
    "\n",
    "            vgg_block(in_channels=512, out_channels=512, num_convs=3)\n",
    "        )\n",
    "\n",
    "        self.classifier = nn.Sequential(\n",
    "            nn.Linear(512*7*7, 4096),\n",
    "            nn.ReLU(True),\n",
    "            nn.Dropout(),\n",
    "\n",
    "            nn.Linear(4096, 4096),\n",
    "            nn.ReLU(True),\n",
    "            nn.Dropout(),   \n",
    "            nn.Linear(4096, n_class)\n",
    "        )\n",
    "\n",
    "    def forward(self,x):\n",
    "        x = self.features(x)\n",
    "        x = x.view(x.size(0),-1)\n",
    "        x = self.classifier(x)\n",
    "        return x\n",
    "\n",
    "model = VGG16(1, 10).to(device)\n",
    "summary(model, input_size=(1, 124, 124))"
   ]
  },
  {
   "cell_type": "code",
   "execution_count": null,
   "id": "94bc55d8-8792-436e-983f-f0999087c67a",
   "metadata": {},
   "outputs": [],
   "source": [
    "criterion = torch.nn.CrossEntropyLoss()"
   ]
  },
  {
   "cell_type": "code",
   "execution_count": null,
   "id": "b7ba1890-16c8-4925-9708-2104c2b164f0",
   "metadata": {},
   "outputs": [],
   "source": [
    "optimizer = torch.optim.SGD(model.parameters(), lr=learning_rate, momentum=momentum)"
   ]
  },
  {
   "cell_type": "code",
   "execution_count": null,
   "id": "aee0191a-f2fc-4360-a9a1-e7eeeaf846a1",
   "metadata": {},
   "outputs": [],
   "source": [
    "def train(epoch):\n",
    "    running_loss = 0.0  \n",
    "    running_total = 0\n",
    "    running_correct = 0\n",
    "    for batch_idx, data in enumerate(train_loader, 0):\n",
    "        inputs, target = data\n",
    "        # inputs, target = inputs.cuda(), target.cuda()\n",
    "        optimizer.zero_grad()\n",
    "        outputs = model(inputs)\n",
    "        loss = criterion(outputs, target)\n",
    "        loss.backward()\n",
    "        optimizer.step()\n",
    "    \n",
    "        running_loss += loss.item()\n",
    "        _, predicted = torch.max(outputs.data, dim=1)\n",
    "        running_total += inputs.shape[0]\n",
    "        running_correct += (predicted == target).sum().item()        \n",
    "        \n",
    "        if batch_idx % 100 == 99:\n",
    "            print(f'[{epoch + 1}, {batch_idx + 1:5d}]: loss: {running_loss / 300:.3f}, acc: {100 * running_correct / running_total:.2f}%')\n",
    "            running_loss = 0.0  \n",
    "            running_total = 0\n",
    "            running_correct = 0  "
   ]
  },
  {
   "cell_type": "code",
   "execution_count": null,
   "id": "79f6292f-3287-4705-8404-8af9d30ff61e",
   "metadata": {},
   "outputs": [],
   "source": [
    "def test():\n",
    "    correct = 0\n",
    "    total = 0\n",
    "    with torch.no_grad():  # 测试集不用算梯度\n",
    "        for data in test_loader:\n",
    "            images, labels = data\n",
    "            # images, labels = images.cuda(), labels.cuda()\n",
    "            outputs = model(images)\n",
    "            _, predicted = torch.max(outputs.data, dim=1)  # dim = 1 列是第0个维度，行是第1个维度，沿着行(第1个维度)去找1.最大值和2.最大值的下标\n",
    "            total += labels.size(0)  # 张量之间的比较运算\n",
    "            correct += (predicted == labels).sum().item()\n",
    "    acc = correct / total\n",
    "    \n",
    "    return acc"
   ]
  },
  {
   "cell_type": "code",
   "execution_count": null,
   "id": "8b729e17-8b3b-40a3-9070-42da52ac9655",
   "metadata": {
    "tags": []
   },
   "outputs": [],
   "source": [
    "if __name__ == '__main__':\n",
    "    acc_list_test = []\n",
    "    for epoch in range(EPOCH):\n",
    "        train(epoch)\n",
    "        if epoch % 10 == 9:  #每训练10轮 测试1次\n",
    "            acc_test = test()\n",
    "            acc_list_test.append(acc_test)\n",
    "\n",
    "    plt.plot(acc_list_test)\n",
    "    plt.xlabel('Epoch')\n",
    "    plt.ylabel('Accuracy On TestSet')\n",
    "    plt.show()"
   ]
  }
 ],
 "metadata": {
  "kernelspec": {
   "display_name": "Python 3 (ipykernel)",
   "language": "python",
   "name": "python3"
  },
  "language_info": {
   "codemirror_mode": {
    "name": "ipython",
    "version": 3
   },
   "file_extension": ".py",
   "mimetype": "text/x-python",
   "name": "python",
   "nbconvert_exporter": "python",
   "pygments_lexer": "ipython3",
   "version": "3.9.16"
  }
 },
 "nbformat": 4,
 "nbformat_minor": 5
}
