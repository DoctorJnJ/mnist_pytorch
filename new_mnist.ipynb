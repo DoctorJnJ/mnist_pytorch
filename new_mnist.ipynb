{
 "cells": [
  {
   "cell_type": "code",
   "execution_count": 1,
   "id": "b0990981",
   "metadata": {},
   "outputs": [],
   "source": [
    "import torch\n",
    "import numpy as np\n",
    "from matplotlib import pyplot as plt\n",
    "from torch.utils.data import DataLoader\n",
    "from torchvision import transforms, datasets\n",
    "import torch.nn.functional as F\n",
    "import os \n",
    "from torch import nn\n",
    "from torch.utils.data import Dataset\n",
    "import gzip\n",
    "import pandas as pd\n",
    "# import torchsummary"
   ]
  },
  {
   "cell_type": "code",
   "execution_count": 2,
   "id": "f686c72d-20a6-4892-8d2d-00ed58bc293b",
   "metadata": {},
   "outputs": [],
   "source": [
    "trans = transforms.Compose([transforms.ToTensor(), \n",
    "                            transforms.Normalize((0.1307,), (0.3081,))])"
   ]
  },
  {
   "cell_type": "code",
   "execution_count": 3,
   "id": "d284f58b-c284-42d0-8ed6-173f46ae2234",
   "metadata": {},
   "outputs": [],
   "source": [
    "# def load_data(data_folder, data_name, label_name):\n",
    "#     with gzip.open(os.path.join(data_folder,data_name), 'rb') as imgpath:\n",
    "#         x_train = np.frombuffer(imgpath.read(), np.uint8, offset=16).reshape(len(y_train), 28, 28)\n",
    "#     with gzip.open(os.path.join(data_folder,label_name), 'rb') as lbpath: \n",
    "#         y_train = np.frombuffer(lbpath.read(), np.uint8, offset=8)\n",
    "#     return (x_train, y_train)\n",
    "\n",
    "\n",
    "# class MNISTDataset(Dataset):\n",
    "#     def __init__(self, data_folder, data_name, label_name,transform=None):\n",
    "#         (train_set, train_labels) = load_data(data_folder, data_name, label_name) # 其实也可以直接使用torch.load(),读取之后的结果为torch.Tensor形式\n",
    "#         self.train_set = train_set\n",
    "#         self.train_labels = train_labels\n",
    "#         self.transform = transform\n",
    "\n",
    "#     def __getitem__(self, index):\n",
    "#         img, target = self.train_set[index], int(self.train_labels[index])\n",
    "#         if self.transform is not None:\n",
    "#             img = self.transform(img)\n",
    "#         return img, target\n",
    "\n",
    "#     def __len__(self):\n",
    "#         return len(self.train_set)"
   ]
  },
  {
   "cell_type": "code",
   "execution_count": 4,
   "id": "b7c2f94d-9a35-4c45-96f8-fb3043dd00fe",
   "metadata": {},
   "outputs": [],
   "source": [
    "# class MNISTDataset(Dataset):\n",
    "#     def __init__(self, data_folder, data_name, label_name,transform=None):\n",
    "#         with gzip.open(os.path.join(data_folder,label_name), 'rb') as lbpath:\n",
    "#             train_labels = np.frombuffer(lbpath.read(), np.uint8, offset=8)\n",
    "#         with gzip.open(os.path.join(data_folder,data_name), 'rb') as imgpath: \n",
    "#             train_set = np.frombuffer(imgpath.read(), np.uint8, offset=16).reshape(len(train_labels), 28, 28)\n",
    "#         self.train_set = train_set\n",
    "#         self.train_labels = train_labels\n",
    "#         self.transform = transform\n",
    "#     def __getitem__(self, index):\n",
    "#         img = self.train_set[index]\n",
    "#         target = int(self.train_labels[index])\n",
    "#         if self.transform is not None:\n",
    "#             img = self.transform(img)\n",
    "#         return img, target\n",
    "\n",
    "#     def __len__(self):\n",
    "#         return len(self.train_set)\n",
    "\n",
    "# class MNISTDataset(Dataset):\n",
    "#     def __init__(self, data_folder, data_name, label_name,transform=None):\n",
    "#         with open(os.path.join(data_folder,label_name), 'rb') as lbpath:\n",
    "#             train_labels = np.frombuffer(lbpath.read(), np.uint8, offset=8)\n",
    "#         with open(os.path.join(data_folder,data_name), 'rb') as imgpath: \n",
    "#             train_set = np.frombuffer(imgpath.read(), np.uint8, offset=16).reshape(len(train_labels), 28, 28)\n",
    "#         self.train_set = train_set\n",
    "#         self.train_labels = train_labels\n",
    "#         self.transform = transform\n",
    "#     def __getitem__(self, index):\n",
    "#         img = self.train_set[index]\n",
    "#         target = int(self.train_labels[index])\n",
    "#         if self.transform is not None:\n",
    "#             img = self.transform(img)\n",
    "#         return img, target\n",
    "\n",
    "#     def __len__(self):\n",
    "#         return len(self.train_set)\n",
    "    \n",
    "class Fasion_Mnist(Dataset):\n",
    "    def __init__(self, csv_path, transform=None):\n",
    "        data = pd.read_csv(csv_path)       \n",
    "        label = data.iloc[:, 0].values\n",
    "        train_set = data.iloc[:, 1:].values.astype(np.uint8).reshape(len(label), 28, 28)\n",
    "        # train_set /= 255.0 \n",
    "       \n",
    "        self.train_set = train_set\n",
    "        self.train_label = label\n",
    "        self.transform = transform\n",
    "    \n",
    "    def __getitem__(self, index):\n",
    "        img = self.train_set[index]\n",
    "        target = int(self.train_label[index])\n",
    "        if self.transform is not None:\n",
    "            img = self.transform(img)\n",
    "        target = torch.tensor(target, dtype=torch.long)\n",
    "        #有个问题，以前没有怎么能用呢？\n",
    "        return img, target\n",
    "    def __len__(self):\n",
    "        return len(self.train_set)"
   ]
  },
  {
   "cell_type": "code",
   "execution_count": 5,
   "id": "070bb617-f8c9-459e-84a0-640e69c9b0bb",
   "metadata": {},
   "outputs": [],
   "source": [
    "# train_dataset = MNISTDataset(r\"C:\\Users\\14282\\OneDrive\\桌面\\fasion_mnist\", \"train-images-idx3-ubyte\", \"train-labels-idx1-ubyte\", transform=trans)\n",
    "# test_dataset = MNISTDataset(r\"C:\\Users\\14282\\OneDrive\\桌面\\fasion_mnist\", \"train-images-idx3-ubyte\", \"train-labels-idx1-ubyte\", transform=trans)\n",
    "train_dataset = Fasion_Mnist(r\"C:\\Users\\14282\\OneDrive\\桌面\\fasion_mnist\\fashion-mnist_train.csv\", transform=trans)\n",
    "# import pdb; pdb.set_trace() \n",
    "test_dataset = Fasion_Mnist(r\"C:\\Users\\14282\\OneDrive\\桌面\\fasion_mnist\\fashion-mnist_test.csv\", transform=trans)"
   ]
  },
  {
   "cell_type": "code",
   "execution_count": 6,
   "id": "c48e6761-c189-4cd9-ad94-888957912f8f",
   "metadata": {},
   "outputs": [],
   "source": [
    "batch_size = 128\n",
    "train_loader = DataLoader(train_dataset, batch_size=batch_size, shuffle=True)\n",
    "# import pdb; pdb.set_trace() \n",
    "test_loader = DataLoader(test_dataset, batch_size=batch_size, shuffle=False)"
   ]
  },
  {
   "cell_type": "code",
   "execution_count": 7,
   "id": "8353a591-be51-4e61-a139-f0c7feb496c0",
   "metadata": {},
   "outputs": [],
   "source": [
    "# # Get the first batch of data\n",
    "# dataiter = iter(train_loader)\n",
    "# images, labels = next(dataiter)\n",
    "# # for batch_idx, data in enumerate(train_loader, 0):\n",
    "# #     inputs, target = data\n",
    "# #     print(batch_idx)\n",
    "# for batch_idx, x in enumerate(train_loader):\n",
    "#     inputs, targets = x\n",
    "#     # a = x\n",
    "#     print(batch_idx)\n",
    "# #     print(f\"Batch {batch_idx}: data = {data}, target = {target}\")\n",
    "# import pdb; pdb.set_trace() \n",
    "# # Plot the images\n",
    "\n",
    "# fig, axes = plt.subplots(figsize=(10,4), ncols=5)\n",
    "# for i in range(5):\n",
    "#     ax = axes[i]\n",
    "#     img = np.squeeze(images[i])\n",
    "#     ax.imshow(img, cmap='gray')\n",
    "#     ax.set_title(f\"Label: {labels[i]}\")\n",
    "#     ax.axis('off')\n",
    "# plt.show()"
   ]
  },
  {
   "cell_type": "code",
   "execution_count": 8,
   "id": "c9ad1faf-5376-45c0-89e9-442e5c4751a0",
   "metadata": {},
   "outputs": [],
   "source": [
    "# batch_size = 64\n",
    "learning_rate = 0.01\n",
    "momentum = 0.5\n",
    "EPOCH = 20"
   ]
  },
  {
   "cell_type": "code",
   "execution_count": 9,
   "id": "0e82c008-01a0-468c-b8b6-557afde51821",
   "metadata": {},
   "outputs": [],
   "source": [
    "class Net(torch.nn.Module):\n",
    "    def __init__(self):\n",
    "        super(Net, self).__init__()\n",
    "        self.conv1 = torch.nn.Sequential(\n",
    "            torch.nn.Conv2d(1, 6, kernel_size=3),\n",
    "            torch.nn.MaxPool2d(kernel_size=2)\n",
    "        )\n",
    "        self.conv2 = torch.nn.Sequential(\n",
    "            torch.nn.Conv2d(6, 16, kernel_size=3),\n",
    "            torch.nn.MaxPool2d(2,2),\n",
    "        )\n",
    "        self.fc = torch.nn.Sequential(\n",
    "            torch.nn.Linear(400, 120),\n",
    "            torch.nn.Linear(120, 84),\n",
    "            torch.nn.Linear(84, 10)\n",
    "        )\n",
    "\n",
    "    def forward(self, x):\n",
    "        batch_size = x.size(0)\n",
    "        x = self.conv1(x)  \n",
    "        x = self.conv2(x)  \n",
    "        x = x.view(batch_size, -1) \n",
    "        x = self.fc(x)\n",
    "        return x  \n",
    "\n",
    "model = Net()\n",
    "\n",
    "# torchsummary.summary(model, (1, 28, 28))"
   ]
  },
  {
   "cell_type": "code",
   "execution_count": 10,
   "id": "b17082f6-7717-472d-8f64-14e2a7ca34c1",
   "metadata": {},
   "outputs": [],
   "source": [
    "criterion = torch.nn.CrossEntropyLoss()  "
   ]
  },
  {
   "cell_type": "code",
   "execution_count": 11,
   "id": "db16242a-d990-4892-ae5c-e5ed337e0ee2",
   "metadata": {},
   "outputs": [],
   "source": [
    "optimizer = torch.optim.SGD(model.parameters(), lr=learning_rate, momentum=momentum)\n",
    "# optimizer = torch.optim.Adam(model.parameters(), lr=0.001)"
   ]
  },
  {
   "cell_type": "code",
   "execution_count": 12,
   "id": "5d44b37b-ea89-495d-b392-2905b8881aaa",
   "metadata": {},
   "outputs": [],
   "source": [
    "def train(epoch):\n",
    "    running_loss = 0.0  \n",
    "    running_total = 0\n",
    "    running_correct = 0\n",
    "    for batch_idx, data in enumerate(train_loader, 0):\n",
    "        inputs, target = data\n",
    "        optimizer.zero_grad()\n",
    "        outputs = model(inputs)\n",
    "        loss = criterion(outputs, target)\n",
    "        loss.backward()\n",
    "        optimizer.step()\n",
    "    \n",
    "        running_loss += loss.item()\n",
    "        \n",
    "        \n",
    "        # import pdb; pdb.set_trace()\n",
    "        \n",
    "        _, predicted = torch.max(outputs.data, dim=1)\n",
    "        #detach()方法\n",
    "        running_total += inputs.shape[0]\n",
    "        running_correct += (predicted == target).sum().item()        \n",
    "        \n",
    "        if batch_idx % 300 == 299:\n",
    "            print(f'[{epoch + 1}, {batch_idx + 1:5d}]: loss: {running_loss / 300:.3f}, acc: {100 * running_correct / running_total:.2f}%')\n",
    "            running_loss = 0.0  \n",
    "            running_total = 0\n",
    "            running_correct = 0  "
   ]
  },
  {
   "cell_type": "code",
   "execution_count": 13,
   "id": "36ec9597-d3c1-4cee-8179-1157aa1d31a7",
   "metadata": {},
   "outputs": [],
   "source": [
    "def test():\n",
    "    correct = 0\n",
    "    total = 0\n",
    "    with torch.no_grad():  # 测试集不用算梯度\n",
    "        for data in test_loader:\n",
    "            images, labels = data\n",
    "            outputs = model(images)\n",
    "            _, predicted = torch.max(outputs.data, dim=1)  # dim = 1 列是第0个维度，行是第1个维度，沿着行(第1个维度)去找1.最大值和2.最大值的下标\n",
    "            total += labels.size(0)  # 张量之间的比较运算\n",
    "            correct += (predicted == labels).sum().item()\n",
    "    acc = correct / total\n",
    "    \n",
    "    return acc"
   ]
  },
  {
   "cell_type": "code",
   "execution_count": 14,
   "id": "e4637a45-176d-4100-8da9-00d220eba936",
   "metadata": {},
   "outputs": [
    {
     "name": "stdout",
     "output_type": "stream",
     "text": [
      "[1,   300]: loss: 1.123, acc: 61.69%\n",
      "[2,   300]: loss: 0.579, acc: 78.85%\n",
      "[3,   300]: loss: 0.518, acc: 81.17%\n",
      "[4,   300]: loss: 0.492, acc: 82.47%\n",
      "[5,   300]: loss: 0.454, acc: 83.97%\n",
      "[6,   300]: loss: 0.442, acc: 84.49%\n",
      "[7,   300]: loss: 0.419, acc: 85.19%\n",
      "[8,   300]: loss: 0.404, acc: 85.95%\n",
      "[9,   300]: loss: 0.394, acc: 86.26%\n",
      "[10,   300]: loss: 0.377, acc: 86.79%\n",
      "[11,   300]: loss: 0.373, acc: 86.90%\n",
      "[12,   300]: loss: 0.368, acc: 87.26%\n",
      "[13,   300]: loss: 0.355, acc: 87.71%\n",
      "[14,   300]: loss: 0.356, acc: 87.61%\n",
      "[15,   300]: loss: 0.346, acc: 87.79%\n",
      "[16,   300]: loss: 0.341, acc: 88.03%\n",
      "[17,   300]: loss: 0.337, acc: 88.18%\n",
      "[18,   300]: loss: 0.335, acc: 88.13%\n",
      "[19,   300]: loss: 0.331, acc: 88.49%\n",
      "[20,   300]: loss: 0.325, acc: 88.70%\n"
     ]
    },
    {
     "data": {
      "image/png": "[encoded data removed]",
      "text/plain": [
       "<Figure size 640x480 with 1 Axes>"
      ]
     },
     "metadata": {},
     "output_type": "display_data"
    }
   ],
   "source": [
    "if __name__ == '__main__':\n",
    "    acc_list_test = []\n",
    "    for epoch in range(EPOCH):\n",
    "        train(epoch)\n",
    "        if epoch % 10 == 9:  #每训练10轮 测试1次\n",
    "            acc_test = test()\n",
    "            acc_list_test.append(acc_test)\n",
    "\n",
    "    plt.plot(acc_list_test)\n",
    "    plt.xlabel('Epoch')\n",
    "    plt.ylabel('Accuracy On TestSet')\n",
    "    plt.show()"
   ]
  },
  {
   "cell_type": "code",
   "execution_count": 15,
   "id": "1edaf407-6a84-45d6-bb9d-11de15d67f24",
   "metadata": {},
   "outputs": [],
   "source": [
    "save_path = './Net.pth'\n",
    "torch.save(model.state_dict(), save_path)"
   ]
  },
  {
   "cell_type": "code",
   "execution_count": 16,
   "id": "d5e3c291-9e1f-450c-bd68-f66c1f908216",
   "metadata": {},
   "outputs": [
    {
     "name": "stdout",
     "output_type": "stream",
     "text": [
      "预测结果： 8\n"
     ]
    }
   ],
   "source": [
    "import numpy as np\n",
    "from PIL import Image\n",
    "import torch\n",
    "from torchvision import transforms\n",
    "\n",
    "\n",
    "transforms = transforms.Compose([\n",
    "    transforms.Resize((28,28)),\n",
    "    transforms.Grayscale(num_output_channels=1),\n",
    "    transforms.ToTensor(), \n",
    "    transforms.Normalize((0.1307,), (0.3081,))])\n",
    "\n",
    "img = Image.open(r\"C:\\Users\\14282\\OneDrive\\桌面\\number\\数字1.png\").convert('L')\n",
    "img = transforms(img)\n",
    "\n",
    "model = Net()\n",
    "\n",
    "model.load_state_dict(torch.load('Net.pth'))\n",
    "\n",
    "with torch.no_grad():\n",
    "    output = model(img)\n",
    "#     import pdb; pdb.set_trace()\n",
    "    prediction = torch.argmax(output, dim=1)\n",
    "print(\"预测结果：\", prediction.item())"
   ]
  },
  {
   "cell_type": "code",
   "execution_count": null,
   "id": "fd133f82-c34b-4502-820b-94e0ee161c2a",
   "metadata": {},
   "outputs": [],
   "source": []
  }
 ],
 "metadata": {
  "kernelspec": {
   "display_name": "Python 3 (ipykernel)",
   "language": "python",
   "name": "python3"
  },
  "language_info": {
   "codemirror_mode": {
    "name": "ipython",
    "version": 3
   },
   "file_extension": ".py",
   "mimetype": "text/x-python",
   "name": "python",
   "nbconvert_exporter": "python",
   "pygments_lexer": "ipython3",
   "version": "3.8.16"
  }
 },
 "nbformat": 4,
 "nbformat_minor": 5
}
