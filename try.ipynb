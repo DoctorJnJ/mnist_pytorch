{
 "cells": [
  {
   "cell_type": "code",
   "execution_count": 12,
   "id": "466bf02f-5bd5-4850-9eb1-d0f0f23648d0",
   "metadata": {
    "tags": []
   },
   "outputs": [],
   "source": [
    "#引入库\n",
    "import torch\n",
    "from torch.utils.data import Dataset, DataLoader\n",
    "from torchvision import transforms\n",
    "import torch.nn.functional as F\n",
    "import numpy as np\n",
    "import pandas as pd\n",
    "import os\n",
    "from matplotlib import pyplot as plt"
   ]
  },
  {
   "cell_type": "code",
   "execution_count": 13,
   "id": "6ab43175-19f5-4d22-ac2e-229d3587436a",
   "metadata": {
    "tags": []
   },
   "outputs": [],
   "source": [
    "#查看数据\n",
    "# filename = 'fashion-mnist_test.csv'\n",
    "# csv_path = os.path.abspath(filename)\n",
    "# csv_path = r\"C:\\Users\\14282\\OneDrive\\桌面\\fasion_mnist\\fashion-mnist_test.csv\"\n",
    "# df = pd.read_csv(csv_path)\n",
    "# df.head()"
   ]
  },
  {
   "cell_type": "code",
   "execution_count": 14,
   "id": "af994723-cab1-41da-a7fc-252e4bad9501",
   "metadata": {
    "tags": []
   },
   "outputs": [],
   "source": [
    "transform = transforms.Compose([transforms.ToTensor(),\n",
    "                                transforms.Normalize((0.1307,), (0.3081,))\n",
    "])"
   ]
  },
  {
   "cell_type": "code",
   "execution_count": 15,
   "id": "53934d8d-9a12-448d-8f33-c62981c0b4fa",
   "metadata": {
    "tags": []
   },
   "outputs": [],
   "source": [
    "#datasets \n",
    "class Fasion_Mnist(Dataset):\n",
    "    def __init__(self, csv_path, transform=None):\n",
    "        df = pd.read_csv(csv_path)\n",
    "        label = df.iloc[:, 0].values\n",
    "        train_set = df.iloc[:, 1:].values.astype(np.uint8).reshape(len(label), 28, 28)\n",
    "        self.train_set = train_set\n",
    "        self.label = label\n",
    "        self.transform = transform                                    \n",
    "    def __getitem__(self, index):\n",
    "        img = self.train_set[index]\n",
    "        target = int(self.label[index])\n",
    "        if self.transform is not None:\n",
    "            img = self.transform(img)\n",
    "        target = torch.tensor(target, dtype=torch.long)\n",
    "        return img, target\n",
    "    def __len__(self):\n",
    "        return len(self.train_set)"
   ]
  },
  {
   "cell_type": "code",
   "execution_count": 16,
   "id": "e826ed20-05ce-4ca4-8ca0-a376746a7b6c",
   "metadata": {
    "tags": []
   },
   "outputs": [],
   "source": [
    "train_dataset = Fasion_Mnist(r\"C:\\Users\\14282\\OneDrive\\桌面\\fasion_mnist\\fashion-mnist_train.csv\", transform=transform)\n",
    "test_dataset = Fasion_Mnist(r\"C:\\Users\\14282\\OneDrive\\桌面\\fasion_mnist\\fashion-mnist_test.csv\", transform=transform)\n",
    "train_loader = DataLoader(train_dataset, batch_size=128, shuffle=True)\n",
    "test_loader = DataLoader(test_dataset, batch_size=128, shuffle=False)"
   ]
  },
  {
   "cell_type": "code",
   "execution_count": 17,
   "id": "1761233d-1bca-4825-b134-615bec53ff78",
   "metadata": {},
   "outputs": [],
   "source": [
    "class Net(torch.nn.Module):\n",
    "    def __init__(self):\n",
    "        super(Net, self).__init__()\n",
    "        self.conv1 = torch.nn.Sequential(\n",
    "            torch.nn.Conv2d(1, 6, 3),\n",
    "            torch.nn.MaxPool2d(2, 2)\n",
    "        )\n",
    "        self.conv2 = torch.nn.Sequential(\n",
    "            torch.nn.Conv2d(6, 16, 3),\n",
    "            torch.nn.MaxPool2d(2,2)\n",
    "        )\n",
    "        self.fc = torch.nn.Sequential(\n",
    "            torch.nn.Linear(400, 120),\n",
    "            torch.nn.Linear(120, 84),\n",
    "            torch.nn.Linear(84, 10)\n",
    "        )\n",
    "        \n",
    "    def forward(self, x):\n",
    "        batch_size = x.size(0)\n",
    "        x = self.conv1(x)\n",
    "        x = self.conv2(x)\n",
    "        x = x.view(batch_size, -1)\n",
    "        x = self.fc(x)\n",
    "        return x\n",
    "model = Net()"
   ]
  },
  {
   "cell_type": "code",
   "execution_count": 18,
   "id": "3cab53b1-8835-45f2-b68f-98e3f0dd03ec",
   "metadata": {},
   "outputs": [],
   "source": [
    "criterion = torch.nn.CrossEntropyLoss()"
   ]
  },
  {
   "cell_type": "code",
   "execution_count": 19,
   "id": "6d705cae-d47f-49aa-a2ee-0f4ab737a06e",
   "metadata": {
    "tags": []
   },
   "outputs": [],
   "source": [
    "optimizer = torch.optim.SGD(model.parameters(), lr=0.001, momentum=0.5)"
   ]
  },
  {
   "cell_type": "code",
   "execution_count": 20,
   "id": "7e352145-9746-4cdf-84c2-dc4d67cfa88c",
   "metadata": {},
   "outputs": [],
   "source": [
    "def train(epoch):\n",
    "    running_loss = 0.0\n",
    "    running_total = 0\n",
    "    running_correct = 0\n",
    "    for batch_idx, data in enumerate(train_loader, 0):\n",
    "        inputs, target = data\n",
    "        \n",
    "        # import pdb; pdb.set_trace() \n",
    "        \n",
    "        optimizer.zero_grad()\n",
    "        outputs = model(inputs)\n",
    "        loss = criterion(outputs, target)\n",
    "        loss.backward()\n",
    "        optimizer.step()\n",
    "        running_loss += loss.item()\n",
    "        _, predicted = torch.max(outputs.data, dim=1)\n",
    "        running_total += inputs.shape[0]\n",
    "        running_correct += (predicted == target).sum().item()\n",
    "        \n",
    "        if batch_idx % 100 == 99:\n",
    "            print(f'[{epoch + 1}, {batch_idx + 1:5d}]: loss: {running_loss / 100:.3f}, acc: {100 * running_correct / running_total:.2f}%')\n",
    "            running_loss = 0.0  \n",
    "            running_total = 0\n",
    "            running_correct = 0  \n",
    "        "
   ]
  },
  {
   "cell_type": "code",
   "execution_count": 21,
   "id": "93cfccde-744f-4112-a84d-8c305ef6e50e",
   "metadata": {
    "tags": []
   },
   "outputs": [],
   "source": [
    "def test():\n",
    "    correct = 0\n",
    "    total = 0\n",
    "    with torch.no_grad(): \n",
    "        for data in test_loader:\n",
    "            images, labels = data\n",
    "            outputs = model(images)\n",
    "            _, predicted = torch.max(outputs.data, dim=1)  \n",
    "            total += labels.size(0) \n",
    "            correct += (predicted == labels).sum().item()\n",
    "    \n",
    "    acc = correct / total\n",
    "    return acc"
   ]
  },
  {
   "cell_type": "code",
   "execution_count": 22,
   "id": "3ff70e57-bd5a-4b11-ac50-67540d3e8e65",
   "metadata": {
    "tags": []
   },
   "outputs": [
    {
     "name": "stdout",
     "output_type": "stream",
     "text": [
      "[1,   100]: loss: 2.277, acc: 12.76%\n",
      "[1,   200]: loss: 2.225, acc: 30.24%\n",
      "[1,   300]: loss: 2.142, acc: 39.41%\n",
      "[1,   400]: loss: 1.993, acc: 47.61%\n",
      "[2,   100]: loss: 1.495, acc: 60.20%\n",
      "[2,   200]: loss: 1.207, acc: 62.63%\n",
      "[2,   300]: loss: 1.048, acc: 64.89%\n",
      "[2,   400]: loss: 0.967, acc: 66.92%\n",
      "[3,   100]: loss: 0.883, acc: 68.50%\n",
      "[3,   200]: loss: 0.859, acc: 69.09%\n",
      "[3,   300]: loss: 0.833, acc: 70.37%\n",
      "[3,   400]: loss: 0.821, acc: 71.12%\n",
      "[4,   100]: loss: 0.762, acc: 72.47%\n",
      "[4,   200]: loss: 0.758, acc: 72.49%\n",
      "[4,   300]: loss: 0.753, acc: 72.77%\n",
      "[4,   400]: loss: 0.742, acc: 73.14%\n",
      "[5,   100]: loss: 0.714, acc: 73.96%\n",
      "[5,   200]: loss: 0.701, acc: 74.38%\n",
      "[5,   300]: loss: 0.699, acc: 74.69%\n",
      "[5,   400]: loss: 0.698, acc: 74.66%\n",
      "[6,   100]: loss: 0.669, acc: 75.83%\n",
      "[6,   200]: loss: 0.681, acc: 75.17%\n",
      "[6,   300]: loss: 0.648, acc: 75.99%\n",
      "[6,   400]: loss: 0.662, acc: 75.72%\n",
      "[7,   100]: loss: 0.650, acc: 75.77%\n",
      "[7,   200]: loss: 0.622, acc: 76.84%\n",
      "[7,   300]: loss: 0.633, acc: 77.19%\n",
      "[7,   400]: loss: 0.641, acc: 76.62%\n",
      "[8,   100]: loss: 0.614, acc: 77.45%\n",
      "[8,   200]: loss: 0.616, acc: 77.43%\n",
      "[8,   300]: loss: 0.609, acc: 77.36%\n",
      "[8,   400]: loss: 0.615, acc: 77.58%\n",
      "[9,   100]: loss: 0.608, acc: 78.05%\n",
      "[9,   200]: loss: 0.602, acc: 77.72%\n",
      "[9,   300]: loss: 0.588, acc: 78.34%\n",
      "[9,   400]: loss: 0.587, acc: 78.04%\n",
      "[10,   100]: loss: 0.591, acc: 78.07%\n",
      "[10,   200]: loss: 0.581, acc: 78.62%\n",
      "[10,   300]: loss: 0.586, acc: 78.61%\n",
      "[10,   400]: loss: 0.559, acc: 79.30%\n",
      "[11,   100]: loss: 0.574, acc: 78.55%\n",
      "[11,   200]: loss: 0.563, acc: 79.24%\n",
      "[11,   300]: loss: 0.561, acc: 79.20%\n",
      "[11,   400]: loss: 0.556, acc: 79.67%\n",
      "[12,   100]: loss: 0.565, acc: 79.15%\n",
      "[12,   200]: loss: 0.550, acc: 79.97%\n",
      "[12,   300]: loss: 0.553, acc: 79.55%\n",
      "[12,   400]: loss: 0.550, acc: 79.66%\n",
      "[13,   100]: loss: 0.549, acc: 79.96%\n",
      "[13,   200]: loss: 0.534, acc: 80.99%\n",
      "[13,   300]: loss: 0.546, acc: 79.95%\n",
      "[13,   400]: loss: 0.546, acc: 79.66%\n",
      "[14,   100]: loss: 0.532, acc: 80.60%\n",
      "[14,   200]: loss: 0.532, acc: 80.46%\n",
      "[14,   300]: loss: 0.553, acc: 79.50%\n",
      "[14,   400]: loss: 0.515, acc: 81.45%\n",
      "[15,   100]: loss: 0.530, acc: 80.49%\n",
      "[15,   200]: loss: 0.531, acc: 80.81%\n",
      "[15,   300]: loss: 0.524, acc: 80.70%\n",
      "[15,   400]: loss: 0.511, acc: 81.33%\n",
      "[16,   100]: loss: 0.511, acc: 80.91%\n",
      "[16,   200]: loss: 0.517, acc: 81.17%\n",
      "[16,   300]: loss: 0.526, acc: 80.84%\n",
      "[16,   400]: loss: 0.508, acc: 81.63%\n",
      "[17,   100]: loss: 0.514, acc: 81.10%\n",
      "[17,   200]: loss: 0.515, acc: 81.66%\n",
      "[17,   300]: loss: 0.502, acc: 81.76%\n",
      "[17,   400]: loss: 0.503, acc: 81.77%\n",
      "[18,   100]: loss: 0.520, acc: 81.39%\n",
      "[18,   200]: loss: 0.499, acc: 82.08%\n",
      "[18,   300]: loss: 0.506, acc: 82.12%\n",
      "[18,   400]: loss: 0.489, acc: 81.95%\n",
      "[19,   100]: loss: 0.492, acc: 82.07%\n",
      "[19,   200]: loss: 0.492, acc: 82.48%\n",
      "[19,   300]: loss: 0.493, acc: 82.43%\n",
      "[19,   400]: loss: 0.493, acc: 81.91%\n",
      "[20,   100]: loss: 0.494, acc: 82.35%\n",
      "[20,   200]: loss: 0.487, acc: 82.47%\n",
      "[20,   300]: loss: 0.483, acc: 82.43%\n",
      "[20,   400]: loss: 0.484, acc: 82.30%\n"
     ]
    },
    {
     "data": {
      "image/png": "[encoded data removed]",
      "text/plain": [
       "<Figure size 640x480 with 1 Axes>"
      ]
     },
     "metadata": {},
     "output_type": "display_data"
    }
   ],
   "source": [
    "EPOCH = 20\n",
    "if __name__ == '__main__':\n",
    "    acc_list_test = []\n",
    "    for epoch in range(EPOCH):\n",
    "        train(epoch)\n",
    "        if epoch % 10 == 9:  #每训练10轮 测试1次\n",
    "            acc_test = test()\n",
    "            acc_list_test.append(acc_test)\n",
    "\n",
    "    plt.plot(acc_list_test)\n",
    "    plt.xlabel('Epoch')\n",
    "    plt.ylabel('Accuracy On TestSet')\n",
    "    plt.show()"
   ]
  }
 ],
 "metadata": {
  "kernelspec": {
   "display_name": "Python 3 (ipykernel)",
   "language": "python",
   "name": "python3"
  },
  "language_info": {
   "codemirror_mode": {
    "name": "ipython",
    "version": 3
   },
   "file_extension": ".py",
   "mimetype": "text/x-python",
   "name": "python",
   "nbconvert_exporter": "python",
   "pygments_lexer": "ipython3",
   "version": "3.8.16"
  }
 },
 "nbformat": 4,
 "nbformat_minor": 5
}
